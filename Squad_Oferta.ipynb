{
  "nbformat": 4,
  "nbformat_minor": 0,
  "metadata": {
    "colab": {
      "name": "Squad_Oferta.ipynb",
      "provenance": [],
      "authorship_tag": "ABX9TyOsk+SklzL4K9inovKCgnzH",
      "include_colab_link": true
    },
    "kernelspec": {
      "name": "python3",
      "display_name": "Python 3"
    },
    "language_info": {
      "name": "python"
    }
  },
  "cells": [
    {
      "cell_type": "markdown",
      "metadata": {
        "id": "view-in-github",
        "colab_type": "text"
      },
      "source": [
        "<a href=\"https://colab.research.google.com/github/mauricionoris/ds-template/blob/main/Squad_Oferta.ipynb\" target=\"_parent\"><img src=\"https://colab.research.google.com/assets/colab-badge.svg\" alt=\"Open In Colab\"/></a>"
      ]
    },
    {
      "cell_type": "markdown",
      "source": [
        "##Jan"
      ],
      "metadata": {
        "id": "hfH-UUL5hV6r"
      }
    },
    {
      "cell_type": "markdown",
      "source": [
        "##Fev"
      ],
      "metadata": {
        "id": "ZXgrAQQ-hWjX"
      }
    },
    {
      "cell_type": "markdown",
      "source": [
        "##Mar"
      ],
      "metadata": {
        "id": "khcvhdw-he_I"
      }
    },
    {
      "cell_type": "markdown",
      "source": [
        ""
      ],
      "metadata": {
        "id": "9wI8t2eKhg0j"
      }
    }
  ]
}